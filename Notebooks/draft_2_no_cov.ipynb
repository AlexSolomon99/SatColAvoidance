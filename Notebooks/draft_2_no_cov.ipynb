{
 "cells": [
  {
   "cell_type": "code",
   "execution_count": 1,
   "metadata": {},
   "outputs": [],
   "source": [
    "import os\n",
    "import numpy as np\n",
    "import math\n",
    "import random\n",
    "import datetime\n",
    "\n",
    "import orekit\n",
    "vm = orekit.initVM()"
   ]
  },
  {
   "cell_type": "code",
   "execution_count": 45,
   "metadata": {},
   "outputs": [],
   "source": [
    "import matplotlib.pyplot as plt\n",
    "import numpy as np\n",
    "from numpy.random import RandomState\n",
    "from org.hipparchus.geometry.euclidean.threed import Vector3D\n",
    "from org.orekit.attitudes import FrameAlignedProvider\n",
    "from org.orekit.bodies import CelestialBodyFactory\n",
    "from org.orekit.bodies import OneAxisEllipsoid\n",
    "from org.orekit.forces.gravity import HolmesFeatherstoneAttractionModel\n",
    "from org.orekit.forces.gravity import NewtonianAttraction\n",
    "from org.orekit.forces.gravity import ThirdBodyAttraction\n",
    "from org.orekit.forces.gravity.potential import GravityFieldFactory\n",
    "from org.orekit.forces.maneuvers import ConstantThrustManeuver\n",
    "from org.orekit.forces.radiation import IsotropicRadiationSingleCoefficient, IsotropicRadiationClassicalConvention\n",
    "from org.orekit.forces.radiation import SolarRadiationPressure\n",
    "from org.orekit.frames import FramesFactory\n",
    "from org.orekit.orbits import KeplerianOrbit, CartesianOrbit\n",
    "from org.orekit.orbits import Orbit\n",
    "from org.orekit.orbits import OrbitType\n",
    "from org.orekit.orbits import PositionAngleType\n",
    "from org.orekit.propagation import SpacecraftState\n",
    "from org.orekit.propagation.conversion import DormandPrince853IntegratorBuilder\n",
    "from org.orekit.propagation.numerical import NumericalPropagator\n",
    "from org.orekit.time import AbsoluteDate\n",
    "from org.orekit.time import TimeScalesFactory\n",
    "from org.orekit.utils import Constants\n",
    "from org.orekit.utils import IERSConventions\n",
    "from org.orekit.ssa.metrics import ProbabilityOfCollision\n",
    "from org.hipparchus.linear import RealMatrix\n",
    "from org.orekit.propagation import StateCovariance\n",
    "from org.orekit.frames import FramesFactory\n",
    "from org.hipparchus.linear import MatrixUtils\n",
    "from org.orekit.ssa.collision.shorttermencounter.probability.twod import Patera2005\n",
    "\n",
    "from orekit.pyhelpers import datetime_to_absolutedate"
   ]
  },
  {
   "cell_type": "code",
   "execution_count": 81,
   "metadata": {},
   "outputs": [],
   "source": [
    "random.seed(42)"
   ]
  },
  {
   "cell_type": "code",
   "execution_count": 3,
   "metadata": {},
   "outputs": [
    {
     "name": "stdout",
     "output_type": "stream",
     "text": [
      "Downloading file from: https://gitlab.orekit.org/orekit/orekit-data/-/archive/master/orekit-data-master.zip\n"
     ]
    }
   ],
   "source": [
    "from orekit.pyhelpers import download_orekit_data_curdir, setup_orekit_curdir\n",
    "download_orekit_data_curdir()\n",
    "setup_orekit_curdir()"
   ]
  },
  {
   "cell_type": "code",
   "execution_count": 4,
   "metadata": {},
   "outputs": [],
   "source": [
    "from org.orekit.frames import FramesFactory\n",
    "gcrf = FramesFactory.getGCRF()\n",
    "\n",
    "from org.orekit.time import TimeScalesFactory\n",
    "utc = TimeScalesFactory.getUTC()"
   ]
  },
  {
   "cell_type": "code",
   "execution_count": 24,
   "metadata": {},
   "outputs": [],
   "source": [
    "def deg_to_rad(deg: float)-> float:\n",
    "    return (math.pi * deg) / 180.0\n",
    "\n",
    "def get_orbital_period(sma: float):\n",
    "    return 2.0 * np.pi * np.sqrt(np.divide(np.power(sma, 3), Constants.WGS84_EARTH_MU))\n",
    "\n",
    "def create_propagator(orbit: Orbit, sc_mass: float, sc_area: float, sc_reflection: float, sc_frame: FramesFactory, \n",
    "                      ref_time: AbsoluteDate, earth_order: float, earth_degree: float, use_perturbations: bool = True):    \n",
    "    # create the propagator\n",
    "    orbit_type = orbit.getType()\n",
    "    integrator = DormandPrince853IntegratorBuilder(1.0, 1000., 1.0).buildIntegrator(orbit, orbit_type)\n",
    "    spacecraft_state = SpacecraftState(orbit, sc_mass)\n",
    "\n",
    "    propagator = NumericalPropagator(integrator)\n",
    "    propagator.setOrbitType(orbit_type)\n",
    "    propagator.setInitialState(spacecraft_state)\n",
    "\n",
    "    # Earth gravity field\n",
    "    if not use_perturbations:\n",
    "        point_gravity = NewtonianAttraction(Constants.WGS84_EARTH_MU)\n",
    "        propagator.addForceModel(point_gravity)\n",
    "    else:\n",
    "        earth = OneAxisEllipsoid(Constants.WGS84_EARTH_EQUATORIAL_RADIUS,\n",
    "                                Constants.WGS84_EARTH_FLATTENING,\n",
    "                                gcrf)\n",
    "        harmonics_gravity_provider = GravityFieldFactory.getNormalizedProvider(earth_degree, earth_order)\n",
    "        propagator.addForceModel(\n",
    "            HolmesFeatherstoneAttractionModel(earth.getBodyFrame(), harmonics_gravity_provider))\n",
    "\n",
    "        # Sun and Moon attraction\n",
    "        propagator.addForceModel(ThirdBodyAttraction(CelestialBodyFactory.getSun()))\n",
    "        propagator.addForceModel(ThirdBodyAttraction(CelestialBodyFactory.getMoon()))\n",
    "\n",
    "        # Solar radiation pressure\n",
    "        propagator.addForceModel(\n",
    "            SolarRadiationPressure(CelestialBodyFactory.getSun(),\n",
    "                                earth,\n",
    "                                IsotropicRadiationSingleCoefficient(sc_area,\n",
    "                                                                    sc_reflection)))\n",
    "\n",
    "    rotation = FramesFactory.getEME2000().getTransformTo(sc_frame, ref_time).getRotation()\n",
    "    attitude = FrameAlignedProvider(rotation)\n",
    "    propagator.setAttitudeProvider(attitude)\n",
    "\n",
    "    return propagator"
   ]
  },
  {
   "cell_type": "code",
   "execution_count": 68,
   "metadata": {},
   "outputs": [],
   "source": [
    "# keplerian elements of ISS\n",
    "sma = 6795.e3\n",
    "ecc = 0.00048\n",
    "inc = 51.6413  # deg\n",
    "argp = 21.0174  # deg\n",
    "raan = 60  # deg\n",
    "tran = 0.0\n",
    "\n",
    "inc_rad = deg_to_rad(inc)\n",
    "argp_rad = deg_to_rad(argp)\n",
    "raan_rad = deg_to_rad(raan)\n",
    "\n",
    "sc_mass = 100.0  # kg\n",
    "sc_area = 1.0 # m^2\n",
    "sc_reflection = 2.0 # Perfect reflection\n",
    "\n",
    "orb_period = get_orbital_period(sma=sma)\n",
    "earth_order = 16\n",
    "earth_degree = 16\n",
    "\n",
    "# initial SV\n",
    "ref_sv = np.array([sma, ecc, inc_rad, argp_rad, raan_rad, tran])\n",
    "ref_sc_frame = gcrf\n",
    "ref_time = AbsoluteDate(2023, 6, 16, 0, 0, 0.0, TimeScalesFactory.getUTC())\n",
    "\n",
    "# create the kepl orbit object\n",
    "kep = ref_sv.tolist()\n",
    "orbit1 = KeplerianOrbit(kep[0], kep[1], kep[2], kep[3], kep[4], kep[5],\n",
    "                        PositionAngleType.MEAN, ref_sc_frame, ref_time, Constants.WGS84_EARTH_MU)\n",
    "orbit2 = KeplerianOrbit(kep[0] - 5, kep[1], kep[2], kep[3], kep[4], kep[5],\n",
    "                        PositionAngleType.MEAN, ref_sc_frame, ref_time, Constants.WGS84_EARTH_MU)\n",
    "\n",
    "orbit1_cart = CartesianOrbit(orbit1)\n",
    "orbit2_cart = CartesianOrbit(orbit2)\n",
    "\n",
    "spacecraft_state = SpacecraftState(orbit1_cart, sc_mass)"
   ]
  },
  {
   "cell_type": "code",
   "execution_count": 49,
   "metadata": {},
   "outputs": [],
   "source": [
    "propagator = create_propagator(orbit=orbit1_cart, sc_mass=sc_mass, sc_area=sc_area, sc_reflection=sc_reflection, \n",
    "                               sc_frame=ref_sc_frame, ref_time=ref_time, earth_order=earth_order, earth_degree=earth_degree, \n",
    "                               use_perturbations=True)"
   ]
  },
  {
   "cell_type": "code",
   "execution_count": 50,
   "metadata": {},
   "outputs": [
    {
     "data": {
      "text/plain": [
       "<NumericalPropagator: org.orekit.propagation.numerical.NumericalPropagator@514cd540>"
      ]
     },
     "execution_count": 50,
     "metadata": {},
     "output_type": "execute_result"
    }
   ],
   "source": [
    "propagator"
   ]
  },
  {
   "cell_type": "code",
   "execution_count": 63,
   "metadata": {},
   "outputs": [],
   "source": [
    "def propagate_(propagator, time):\n",
    "    propag_response_state = propagator.propagate(time)\n",
    "    return propag_response_state"
   ]
  },
  {
   "cell_type": "code",
   "execution_count": 52,
   "metadata": {},
   "outputs": [
    {
     "data": {
      "text/plain": [
       "<SpacecraftState: SpacecraftState{orbit=Cartesian parameters: {P(1860814.0584449484, 6246338.190354819, 1910063.0213799411), V(-5218.392907293485, -160.55769667639294, 5608.902134101485)}, attitude=org.orekit.attitudes.Attitude@7aa9e414, mass=100.0, additional={}, additionalDot={}}>"
      ]
     },
     "execution_count": 52,
     "metadata": {},
     "output_type": "execute_result"
    }
   ],
   "source": [
    "propagator.getInitialState()"
   ]
  },
  {
   "cell_type": "code",
   "execution_count": 53,
   "metadata": {},
   "outputs": [
    {
     "data": {
      "text/plain": [
       "<AbsoluteDate: 2023-06-16T00:00:00.000Z>"
      ]
     },
     "execution_count": 53,
     "metadata": {},
     "output_type": "execute_result"
    }
   ],
   "source": [
    "propagator.getInitialState().getDate()"
   ]
  },
  {
   "cell_type": "code",
   "execution_count": 54,
   "metadata": {},
   "outputs": [
    {
     "data": {
      "text/plain": [
       "<AbsoluteDate: 2023-06-16T00:00:00.000Z>"
      ]
     },
     "execution_count": 54,
     "metadata": {},
     "output_type": "execute_result"
    }
   ],
   "source": [
    "ref_time"
   ]
  },
  {
   "cell_type": "code",
   "execution_count": 1,
   "metadata": {},
   "outputs": [
    {
     "ename": "NameError",
     "evalue": "name 'ref_time' is not defined",
     "output_type": "error",
     "traceback": [
      "\u001b[1;31m---------------------------------------------------------------------------\u001b[0m",
      "\u001b[1;31mNameError\u001b[0m                                 Traceback (most recent call last)",
      "Cell \u001b[1;32mIn[1], line 1\u001b[0m\n\u001b[1;32m----> 1\u001b[0m new_time \u001b[38;5;241m=\u001b[39m \u001b[43mref_time\u001b[49m\u001b[38;5;241m.\u001b[39mshiftedBy(\u001b[38;5;241m-\u001b[39m\u001b[38;5;241m5.0\u001b[39m)\n",
      "\u001b[1;31mNameError\u001b[0m: name 'ref_time' is not defined"
     ]
    }
   ],
   "source": [
    "new_time = ref_time.shiftedBy(-5.0)"
   ]
  },
  {
   "cell_type": "code",
   "execution_count": 71,
   "metadata": {},
   "outputs": [
    {
     "data": {
      "text/plain": [
       "<AbsoluteDate: 2023-06-15T23:59:55.000Z>"
      ]
     },
     "execution_count": 71,
     "metadata": {},
     "output_type": "execute_result"
    }
   ],
   "source": [
    "new_time"
   ]
  },
  {
   "cell_type": "code",
   "execution_count": 72,
   "metadata": {},
   "outputs": [
    {
     "data": {
      "text/plain": [
       "<AbsoluteDate: 2023-06-16T00:00:00.000Z>"
      ]
     },
     "execution_count": 72,
     "metadata": {},
     "output_type": "execute_result"
    }
   ],
   "source": [
    "ref_time"
   ]
  },
  {
   "cell_type": "code",
   "execution_count": 73,
   "metadata": {},
   "outputs": [],
   "source": [
    "propag_response = propagate_(propagator=propagator, time=new_time)"
   ]
  },
  {
   "cell_type": "code",
   "execution_count": 75,
   "metadata": {},
   "outputs": [
    {
     "data": {
      "text/plain": [
       "<AbsoluteDate: 2023-06-15T23:59:55.000Z>"
      ]
     },
     "execution_count": 75,
     "metadata": {},
     "output_type": "execute_result"
    }
   ],
   "source": [
    "propag_response.getDate()"
   ]
  },
  {
   "cell_type": "code",
   "execution_count": 66,
   "metadata": {},
   "outputs": [
    {
     "data": {
      "text/plain": [
       "<SpacecraftState: SpacecraftState{orbit=Cartesian parameters: {P(1834692.614688584, 6245435.9828089345, 1938076.8951124188), V(-5230.156847708685, -200.32425502123925, 5596.617583008024)}, attitude=org.orekit.attitudes.Attitude@5ec46cdd, mass=100.0, additional={}, additionalDot={}}>"
      ]
     },
     "execution_count": 66,
     "metadata": {},
     "output_type": "execute_result"
    }
   ],
   "source": [
    "propagator.getInitialState()"
   ]
  },
  {
   "cell_type": "code",
   "execution_count": 69,
   "metadata": {},
   "outputs": [
    {
     "data": {
      "text/plain": [
       "<SpacecraftState: SpacecraftState{orbit=Cartesian parameters: {P(1860814.0584449484, 6246338.190354819, 1910063.0213799411), V(-5218.392907293485, -160.55769667639294, 5608.902134101485)}, attitude=org.orekit.attitudes.Attitude@3b2f4a93, mass=100.0, additional={}, additionalDot={}}>"
      ]
     },
     "execution_count": 69,
     "metadata": {},
     "output_type": "execute_result"
    }
   ],
   "source": [
    "spacecraft_state"
   ]
  },
  {
   "cell_type": "code",
   "execution_count": null,
   "metadata": {},
   "outputs": [],
   "source": []
  },
  {
   "cell_type": "markdown",
   "metadata": {},
   "source": [
    "# Implement a way to create collisions with this satellite in this orbit"
   ]
  },
  {
   "cell_type": "code",
   "execution_count": 107,
   "metadata": {},
   "outputs": [],
   "source": [
    "# 1. Set the orbit definition parameters for the primary object\n",
    "# keplerian elements of ISS, without the true anomally (which indictes the position on the orbit)\n",
    "sma = 6795.e3\n",
    "ecc = 0.00048\n",
    "inc = 51.6413  # deg\n",
    "argp = 21.0174  # deg\n",
    "raan = 60  # deg\n",
    "\n",
    "inc_rad = deg_to_rad(inc)\n",
    "argp_rad = deg_to_rad(argp)\n",
    "raan_rad = deg_to_rad(raan)\n",
    "\n",
    "sc_mass = 100.0  # kg\n",
    "sc_area = 1.0 # m^2\n",
    "sc_reflection = 2.0 # Perfect reflection\n",
    "\n",
    "# 2. Randomly select a point on the orbit (by setting the true anomally randomly)\n",
    "tran = 2.0 * np.pi * random.random()\n",
    "\n",
    "# define the orbit of the primary object with the parameters obtained in the GCRF ref frame, at the defined ref time\n",
    "# initial SV\n",
    "init_sv = np.array([sma, ecc, inc_rad, argp_rad, raan_rad, tran])\n",
    "ref_sc_frame = gcrf\n",
    "ref_time = AbsoluteDate(2023, 6, 16, 0, 0, 0.0, TimeScalesFactory.getUTC())\n",
    "\n",
    "# 3. Create the orbit object of the primary satellite\n",
    "kep = init_sv.tolist()\n",
    "primary_orbit_kepl = KeplerianOrbit(kep[0], kep[1], kep[2], kep[3], kep[4], kep[5],\n",
    "                                    PositionAngleType.MEAN, ref_sc_frame, ref_time, Constants.WGS84_EARTH_MU)\n",
    "primary_orbit_cart = CartesianOrbit(primary_orbit_kepl)\n",
    "primary_sc_state = SpacecraftState(primary_orbit_cart, sc_mass)\n",
    "\n",
    "# 4. Get the position and velocity of the initial state of the primary object\n",
    "init_primary_pos = np.array(primary_sc_state.getPVCoordinates().getPosition().toArray())\n",
    "init_primary_vel = np.array(primary_sc_state.getPVCoordinates().getVelocity().toArray())\n",
    "\n",
    "# 5. Get the position and velocity of the initial state of the secondary object\n",
    "# 5.1 Position - Get the position difference between the secondary and primary objects sampled from a normal distribution, \n",
    "# mean 0, std 1. Multiply it by 10, so the obtained value is in the order of 10 and add it to each component of the pos vector\n",
    "# of the primary.\n",
    "# 5.2 Velocity - Get the velocity difference between the secondary and primary objects sampled from a normal distribution, \n",
    "# mean 0, std 1. Multiply it by 10, so the obtained value is in the order of 10 and add it to each component of the \n",
    "# inverse of the vel vector of the primary. The reason for choosing the inverse is to have a head-on-collision.\n",
    "init_secondary_pos = 10.0 * np.random.standard_normal(3) + init_primary_pos\n",
    "init_secondary_vel = 10.0 * np.random.standard_normal(3) + (-1.0 * init_primary_vel)"
   ]
  },
  {
   "cell_type": "code",
   "execution_count": 112,
   "metadata": {},
   "outputs": [
    {
     "data": {
      "text/plain": [
       "array([ 966534.55313394, 6110515.28506923, 2802837.73066361])"
      ]
     },
     "execution_count": 112,
     "metadata": {},
     "output_type": "execute_result"
    }
   ],
   "source": [
    "init_primary_pos"
   ]
  },
  {
   "cell_type": "code",
   "execution_count": 92,
   "metadata": {},
   "outputs": [
    {
     "data": {
      "text/plain": [
       "<Vector3D: {-2,748.2872447525; 4,293.5075010969; 5,719.916069713}>"
      ]
     },
     "execution_count": 92,
     "metadata": {},
     "output_type": "execute_result"
    }
   ],
   "source": [
    "init_primary_vel"
   ]
  },
  {
   "cell_type": "code",
   "execution_count": null,
   "metadata": {},
   "outputs": [],
   "source": [
    "def get_random_pos_sample(pos_vector: list):\n",
    "    new_pos_vector = [np.random.standard_normal(3)]"
   ]
  },
  {
   "cell_type": "code",
   "execution_count": 103,
   "metadata": {},
   "outputs": [],
   "source": [
    "rand_num = np.random.standard_normal(3)"
   ]
  },
  {
   "cell_type": "code",
   "execution_count": 104,
   "metadata": {},
   "outputs": [
    {
     "data": {
      "text/plain": [
       "array([-0.91150182, -0.68484577,  1.96325697])"
      ]
     },
     "execution_count": 104,
     "metadata": {},
     "output_type": "execute_result"
    }
   ],
   "source": [
    "rand_num"
   ]
  },
  {
   "cell_type": "code",
   "execution_count": 106,
   "metadata": {},
   "outputs": [
    {
     "data": {
      "text/plain": [
       "array([0.08849818, 1.31515423, 4.96325697])"
      ]
     },
     "execution_count": 106,
     "metadata": {},
     "output_type": "execute_result"
    }
   ],
   "source": [
    "np.array([1.0, 2.0, 3.0]) + rand_num"
   ]
  },
  {
   "cell_type": "code",
   "execution_count": null,
   "metadata": {},
   "outputs": [],
   "source": []
  }
 ],
 "metadata": {
  "kernelspec": {
   "display_name": "rlSatColAvoid",
   "language": "python",
   "name": "python3"
  },
  "language_info": {
   "codemirror_mode": {
    "name": "ipython",
    "version": 3
   },
   "file_extension": ".py",
   "mimetype": "text/x-python",
   "name": "python",
   "nbconvert_exporter": "python",
   "pygments_lexer": "ipython3",
   "version": "3.11.8"
  }
 },
 "nbformat": 4,
 "nbformat_minor": 2
}

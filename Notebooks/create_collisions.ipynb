{
 "cells": [
  {
   "cell_type": "code",
   "execution_count": 1,
   "metadata": {},
   "outputs": [
    {
     "ename": "ValueError",
     "evalue": "jvm.dll could not be found",
     "output_type": "error",
     "traceback": [
      "\u001b[1;31m---------------------------------------------------------------------------\u001b[0m",
      "\u001b[1;31mValueError\u001b[0m                                Traceback (most recent call last)",
      "Cell \u001b[1;32mIn[1], line 7\u001b[0m\n\u001b[0;32m      4\u001b[0m \u001b[38;5;28;01mimport\u001b[39;00m \u001b[38;5;21;01mrandom\u001b[39;00m\n\u001b[0;32m      5\u001b[0m \u001b[38;5;28;01mimport\u001b[39;00m \u001b[38;5;21;01mdatetime\u001b[39;00m\n\u001b[1;32m----> 7\u001b[0m \u001b[38;5;28;01mimport\u001b[39;00m \u001b[38;5;21;01morekit\u001b[39;00m\n\u001b[0;32m      8\u001b[0m vm \u001b[38;5;241m=\u001b[39m orekit\u001b[38;5;241m.\u001b[39minitVM()\n",
      "File \u001b[1;32md:\\Apps\\anaconda3\\envs\\rlSatColAvoid\\Lib\\site-packages\\orekit\\__init__.py:6\u001b[0m\n\u001b[0;32m      4\u001b[0m \u001b[38;5;28;01mif\u001b[39;00m sys\u001b[38;5;241m.\u001b[39mplatform \u001b[38;5;241m==\u001b[39m \u001b[38;5;124m'\u001b[39m\u001b[38;5;124mwin32\u001b[39m\u001b[38;5;124m'\u001b[39m:\n\u001b[0;32m      5\u001b[0m   \u001b[38;5;28;01mfrom\u001b[39;00m \u001b[38;5;21;01m.\u001b[39;00m\u001b[38;5;21;01mwindows\u001b[39;00m \u001b[38;5;28;01mimport\u001b[39;00m add_jvm_dll_directory_to_path\n\u001b[1;32m----> 6\u001b[0m   \u001b[43madd_jvm_dll_directory_to_path\u001b[49m\u001b[43m(\u001b[49m\u001b[38;5;124;43m'\u001b[39;49m\u001b[38;5;124;43mserver\u001b[39;49m\u001b[38;5;124;43m'\u001b[39;49m\u001b[43m)\u001b[49m\n\u001b[0;32m      7\u001b[0m \u001b[38;5;28;01mfrom\u001b[39;00m \u001b[38;5;21;01m.\u001b[39;00m \u001b[38;5;28;01mimport\u001b[39;00m _orekit\n\u001b[0;32m      9\u001b[0m __module_dir__ \u001b[38;5;241m=\u001b[39m os\u001b[38;5;241m.\u001b[39mpath\u001b[38;5;241m.\u001b[39mabspath(os\u001b[38;5;241m.\u001b[39mpath\u001b[38;5;241m.\u001b[39mdirname(\u001b[38;5;18m__file__\u001b[39m))\n",
      "File \u001b[1;32md:\\Apps\\anaconda3\\envs\\rlSatColAvoid\\Lib\\site-packages\\orekit\\windows.py:104\u001b[0m, in \u001b[0;36madd_jvm_dll_directory_to_path\u001b[1;34m(client_or_server)\u001b[0m\n\u001b[0;32m    100\u001b[0m         os\u001b[38;5;241m.\u001b[39menviron[\u001b[38;5;124m'\u001b[39m\u001b[38;5;124mPath\u001b[39m\u001b[38;5;124m'\u001b[39m] \u001b[38;5;241m=\u001b[39m os\u001b[38;5;241m.\u001b[39mpathsep\u001b[38;5;241m.\u001b[39mjoin(path)\n\u001b[0;32m    102\u001b[0m     \u001b[38;5;28;01mreturn\u001b[39;00m \u001b[38;5;28;01mTrue\u001b[39;00m\n\u001b[1;32m--> 104\u001b[0m \u001b[38;5;28;01mraise\u001b[39;00m \u001b[38;5;167;01mValueError\u001b[39;00m(\u001b[38;5;124m\"\u001b[39m\u001b[38;5;124mjvm.dll could not be found\u001b[39m\u001b[38;5;124m\"\u001b[39m)\n",
      "\u001b[1;31mValueError\u001b[0m: jvm.dll could not be found"
     ]
    }
   ],
   "source": [
    "import os\n",
    "import numpy as np\n",
    "import math\n",
    "import random\n",
    "import datetime\n",
    "\n",
    "import orekit\n",
    "vm = orekit.initVM()"
   ]
  },
  {
   "cell_type": "code",
   "execution_count": null,
   "metadata": {},
   "outputs": [],
   "source": [
    "import matplotlib.pyplot as plt\n",
    "import numpy as np\n",
    "from numpy.random import RandomState\n",
    "from org.hipparchus.geometry.euclidean.threed import Vector3D\n",
    "from org.orekit.attitudes import FrameAlignedProvider\n",
    "from org.orekit.bodies import CelestialBodyFactory\n",
    "from org.orekit.bodies import OneAxisEllipsoid\n",
    "from org.orekit.forces.gravity import HolmesFeatherstoneAttractionModel\n",
    "from org.orekit.forces.gravity import NewtonianAttraction\n",
    "from org.orekit.forces.gravity import ThirdBodyAttraction\n",
    "from org.orekit.forces.gravity.potential import GravityFieldFactory\n",
    "from org.orekit.forces.maneuvers import ConstantThrustManeuver\n",
    "from org.orekit.forces.radiation import IsotropicRadiationSingleCoefficient, IsotropicRadiationClassicalConvention\n",
    "from org.orekit.forces.radiation import SolarRadiationPressure\n",
    "from org.orekit.frames import FramesFactory\n",
    "from org.orekit.orbits import KeplerianOrbit, CartesianOrbit\n",
    "from org.orekit.orbits import Orbit\n",
    "from org.orekit.orbits import OrbitType\n",
    "from org.orekit.orbits import PositionAngleType\n",
    "from org.orekit.propagation import SpacecraftState\n",
    "from org.orekit.propagation.conversion import DormandPrince853IntegratorBuilder\n",
    "from org.orekit.propagation.numerical import NumericalPropagator\n",
    "from org.orekit.time import AbsoluteDate\n",
    "from org.orekit.time import TimeScalesFactory\n",
    "from org.orekit.utils import Constants\n",
    "from org.orekit.utils import IERSConventions\n",
    "from org.orekit.utils import PVCoordinates\n",
    "from org.orekit.ssa.metrics import ProbabilityOfCollision\n",
    "from org.hipparchus.linear import RealMatrix\n",
    "from org.orekit.propagation import StateCovariance\n",
    "from org.orekit.frames import FramesFactory\n",
    "from org.hipparchus.linear import MatrixUtils\n",
    "from org.orekit.ssa.collision.shorttermencounter.probability.twod import Patera2005\n",
    "\n",
    "from orekit.pyhelpers import datetime_to_absolutedate"
   ]
  },
  {
   "cell_type": "code",
   "execution_count": 4,
   "metadata": {},
   "outputs": [],
   "source": [
    "random.seed(42)"
   ]
  },
  {
   "cell_type": "code",
   "execution_count": 5,
   "metadata": {},
   "outputs": [
    {
     "name": "stdout",
     "output_type": "stream",
     "text": [
      "Downloading file from: https://gitlab.orekit.org/orekit/orekit-data/-/archive/master/orekit-data-master.zip\n"
     ]
    }
   ],
   "source": [
    "from orekit.pyhelpers import download_orekit_data_curdir, setup_orekit_curdir\n",
    "download_orekit_data_curdir()\n",
    "setup_orekit_curdir()"
   ]
  },
  {
   "cell_type": "code",
   "execution_count": 6,
   "metadata": {},
   "outputs": [],
   "source": [
    "from org.orekit.frames import FramesFactory\n",
    "gcrf = FramesFactory.getGCRF()\n",
    "\n",
    "from org.orekit.time import TimeScalesFactory\n",
    "utc = TimeScalesFactory.getUTC()"
   ]
  },
  {
   "cell_type": "code",
   "execution_count": 7,
   "metadata": {},
   "outputs": [],
   "source": [
    "def deg_to_rad(deg: float)-> float:\n",
    "    return (math.pi * deg) / 180.0\n",
    "\n",
    "def get_orbital_period(sma: float):\n",
    "    return 2.0 * np.pi * np.sqrt(np.divide(np.power(sma, 3), Constants.WGS84_EARTH_MU))\n",
    "\n",
    "def create_propagator(orbit: Orbit, sc_mass: float, sc_area: float, sc_reflection: float, sc_frame: FramesFactory, \n",
    "                      ref_time: AbsoluteDate, earth_order: float, earth_degree: float, use_perturbations: bool = True):    \n",
    "    # create the propagator\n",
    "    orbit_type = orbit.getType()\n",
    "    integrator = DormandPrince853IntegratorBuilder(1.0, 1000., 1.0).buildIntegrator(orbit, orbit_type)\n",
    "    spacecraft_state = SpacecraftState(orbit, sc_mass)\n",
    "\n",
    "    propagator = NumericalPropagator(integrator)\n",
    "    propagator.setOrbitType(orbit_type)\n",
    "    propagator.setInitialState(spacecraft_state)\n",
    "\n",
    "    # Earth gravity field\n",
    "    if not use_perturbations:\n",
    "        point_gravity = NewtonianAttraction(Constants.WGS84_EARTH_MU)\n",
    "        propagator.addForceModel(point_gravity)\n",
    "    else:\n",
    "        earth = OneAxisEllipsoid(Constants.WGS84_EARTH_EQUATORIAL_RADIUS,\n",
    "                                Constants.WGS84_EARTH_FLATTENING,\n",
    "                                gcrf)\n",
    "        harmonics_gravity_provider = GravityFieldFactory.getNormalizedProvider(earth_degree, earth_order)\n",
    "        propagator.addForceModel(\n",
    "            HolmesFeatherstoneAttractionModel(earth.getBodyFrame(), harmonics_gravity_provider))\n",
    "\n",
    "        # Sun and Moon attraction\n",
    "        propagator.addForceModel(ThirdBodyAttraction(CelestialBodyFactory.getSun()))\n",
    "        propagator.addForceModel(ThirdBodyAttraction(CelestialBodyFactory.getMoon()))\n",
    "\n",
    "        # Solar radiation pressure\n",
    "        propagator.addForceModel(\n",
    "            SolarRadiationPressure(CelestialBodyFactory.getSun(),\n",
    "                                earth,\n",
    "                                IsotropicRadiationSingleCoefficient(sc_area,\n",
    "                                                                    sc_reflection)))\n",
    "\n",
    "    rotation = FramesFactory.getEME2000().getTransformTo(sc_frame, ref_time).getRotation()\n",
    "    attitude = FrameAlignedProvider(rotation)\n",
    "    propagator.setAttitudeProvider(attitude)\n",
    "\n",
    "    return propagator\n",
    "\n",
    "def propagate_(propagator, time):\n",
    "    propag_response_state = propagator.propagate(time)\n",
    "    return propag_response_state"
   ]
  },
  {
   "cell_type": "code",
   "execution_count": 8,
   "metadata": {},
   "outputs": [],
   "source": [
    "action = [1.0, -0.5, 1.1]"
   ]
  },
  {
   "cell_type": "code",
   "execution_count": 13,
   "metadata": {},
   "outputs": [
    {
     "name": "stdout",
     "output_type": "stream",
     "text": [
      "{1; 0; 0}\n",
      "1.0\n",
      "{0; -1; 0}\n",
      "0.5\n",
      "{0; 0; 1}\n",
      "1.1\n"
     ]
    }
   ],
   "source": [
    "for i in range(3):\n",
    "    if abs(action[i]) > 0.0:\n",
    "        direction = Vector3D(list((1.0 if action[i] > 0 else -1.0) if i == j else 0.0 for j in range(3)))\n",
    "        force = (1.0 * abs(action[i]))\n",
    "        print(direction)\n",
    "        print(force)"
   ]
  },
  {
   "cell_type": "code",
   "execution_count": null,
   "metadata": {},
   "outputs": [],
   "source": []
  },
  {
   "cell_type": "code",
   "execution_count": 7,
   "metadata": {},
   "outputs": [],
   "source": [
    "# 1. Set the orbit definition parameters for the primary object\n",
    "# keplerian elements of ISS, without the true anomally (which indictes the position on the orbit)\n",
    "sma = 6795.e3\n",
    "ecc = 0.00048\n",
    "inc = 51.6413  # deg\n",
    "argp = 21.0174  # deg\n",
    "raan = 60  # deg\n",
    "\n",
    "inc_rad = deg_to_rad(inc)\n",
    "argp_rad = deg_to_rad(argp)\n",
    "raan_rad = deg_to_rad(raan)\n",
    "\n",
    "sc_mass = 100.0  # kg\n",
    "sc_area = 1.0 # m^2\n",
    "sc_reflection = 2.0 # Perfect reflection - maybe it is not needed to use the solar radiation model\n",
    "\n",
    "# 2. Randomly select a point on the orbit (by setting the true anomally randomly)\n",
    "tran = 2.0 * np.pi * random.random()\n",
    "\n",
    "# define the orbit of the primary object with the parameters obtained in the GCRF ref frame, at the defined ref time\n",
    "# initial SV\n",
    "init_sv = np.array([sma, ecc, inc_rad, argp_rad, raan_rad, tran])\n",
    "ref_sc_frame = gcrf\n",
    "ref_time = AbsoluteDate(2023, 6, 16, 0, 0, 0.0, TimeScalesFactory.getUTC())\n",
    "\n",
    "# 3. Create the orbit object of the primary satellite\n",
    "kep = init_sv.tolist()\n",
    "primary_orbit_kepl = KeplerianOrbit(kep[0], kep[1], kep[2], kep[3], kep[4], kep[5],\n",
    "                                    PositionAngleType.MEAN, ref_sc_frame, ref_time, Constants.WGS84_EARTH_MU)\n",
    "primary_orbit_cart = CartesianOrbit(primary_orbit_kepl)\n",
    "primary_sc_state = SpacecraftState(primary_orbit_cart, sc_mass)\n",
    "\n",
    "# 4. Get the position and velocity of the initial state of the primary object\n",
    "init_primary_pos = np.array(primary_sc_state.getPVCoordinates().getPosition().toArray())\n",
    "init_primary_vel = np.array(primary_sc_state.getPVCoordinates().getVelocity().toArray())\n",
    "\n",
    "# 5. Get the position and velocity of the initial state of the secondary object\n",
    "# 5.1 Position - Get the position difference between the secondary and primary objects sampled from a normal distribution, \n",
    "# mean 0, std 1. Multiply it by 10, so the obtained value is in the order of 10 and add it to each component of the pos vector\n",
    "# of the primary.\n",
    "# 5.2 Velocity - Get the velocity difference between the secondary and primary objects sampled from a normal distribution, \n",
    "# mean 0, std 1. Multiply it by 10, so the obtained value is in the order of 10 and add it to each component of the \n",
    "# inverse of the vel vector of the primary. The reason for choosing the inverse is to have a head-on-collision.\n",
    "init_secondary_pos = 10.0 * np.random.standard_normal(3) + init_primary_pos\n",
    "init_secondary_vel = 10.0 * np.random.standard_normal(3) + (-1.0 * init_primary_vel)\n",
    "\n",
    "# 6. Create the orbit object of the secondary sat\n",
    "sec_pos_vec, sec_vel_vec = Vector3D(init_secondary_pos.tolist()), Vector3D(init_secondary_vel.tolist())\n",
    "sec_pv_coord = PVCoordinates(sec_pos_vec, sec_vel_vec)\n",
    "secondary_orbit_cart = CartesianOrbit(sec_pv_coord, gcrf, ref_time, Constants.WGS84_EARTH_MU)\n",
    "secondary_sc_state = SpacecraftState(secondary_orbit_cart, 10.0)"
   ]
  },
  {
   "cell_type": "code",
   "execution_count": 8,
   "metadata": {},
   "outputs": [
    {
     "data": {
      "text/plain": [
       "array([ 2360511.39347905, -3896221.51589487, -5044587.44642333])"
      ]
     },
     "execution_count": 8,
     "metadata": {},
     "output_type": "execute_result"
    }
   ],
   "source": [
    "init_primary_pos"
   ]
  },
  {
   "cell_type": "code",
   "execution_count": 9,
   "metadata": {},
   "outputs": [
    {
     "data": {
      "text/plain": [
       "array([ 2360496.11832898, -3896220.04870868, -5044598.07164654])"
      ]
     },
     "execution_count": 9,
     "metadata": {},
     "output_type": "execute_result"
    }
   ],
   "source": [
    "init_secondary_pos"
   ]
  },
  {
   "cell_type": "code",
   "execution_count": 10,
   "metadata": {},
   "outputs": [
    {
     "data": {
      "text/plain": [
       "18.664892525101994"
      ]
     },
     "execution_count": 10,
     "metadata": {},
     "output_type": "execute_result"
    }
   ],
   "source": [
    "np.linalg.norm(init_primary_pos - init_secondary_pos)"
   ]
  },
  {
   "cell_type": "code",
   "execution_count": 11,
   "metadata": {},
   "outputs": [],
   "source": [
    "primary_propagator = create_propagator(orbit=primary_orbit_cart, sc_mass=sc_mass, sc_area=sc_area, sc_reflection=sc_reflection,\n",
    "                                       sc_frame=gcrf, ref_time=ref_time, earth_order=16, earth_degree=16)\n",
    "secondary_propagator = create_propagator(orbit=secondary_orbit_cart, sc_mass=10.0, sc_area=sc_area, sc_reflection=sc_reflection,\n",
    "                                         sc_frame=gcrf, ref_time=ref_time, earth_order=16, earth_degree=16)"
   ]
  },
  {
   "cell_type": "code",
   "execution_count": 12,
   "metadata": {},
   "outputs": [
    {
     "name": "stdout",
     "output_type": "stream",
     "text": [
      "Start time:  2024-04-06 18:57:26.294936\n",
      "Minimum Distance: 18.703228434306677\n",
      "Primary Position: [ 2360511.40138689 -3896221.25306799 -5044587.25701183]\n",
      "Secondary Position: [ 2360496.25543905 -3896219.92907732 -5044598.15004017]\n",
      "Redundant min distance: 18.703228434306677\n",
      "TCA: 2023-06-16T00:00:00.000Z\n",
      "Ref Time: 2023-06-16T00:00:00.000Z\n",
      "Stop time:  2024-04-06 18:57:28.031576\n"
     ]
    }
   ],
   "source": [
    "print(\"Start time: \", datetime.datetime.now())\n",
    "\n",
    "### Identify the TCA and the minimum distance between objects\n",
    "\n",
    "# get the orbital period and the time discretization around the reference time (which should be close to the TCA)\n",
    "orb_period = primary_orbit_cart.getKeplerianPeriod()\n",
    "ref_period = orb_period / 8.0 # an eith of the orbital period\n",
    "step_duration = 5.0  # seconds\n",
    "\n",
    "num_points = int(2 * ref_period / step_duration)\n",
    "time_discretisation_positive = np.linspace(start=0, stop=ref_period, num=num_points//2)\n",
    "time_discretisation_neggative = np.linspace(start=-ref_period, stop=-step_duration, num=num_points//2)\n",
    "time_discretisation = np.append(time_discretisation_neggative, time_discretisation_positive)\n",
    "\n",
    "primary_orbital_positions = []\n",
    "secondary_orbital_positions = []\n",
    "\n",
    "# get the positions of each satellite at the required times\n",
    "for time_step in time_discretisation:\n",
    "    current_time = ref_time.shiftedBy(float(time_step))\n",
    "    primary_state = propagate_(propagator=primary_propagator, time=current_time)\n",
    "    secondary_state = propagate_(propagator=secondary_propagator, time=current_time)\n",
    "\n",
    "    primary_orbital_positions.append(np.array(primary_state.getPosition().toArray()))\n",
    "    secondary_orbital_positions.append(np.array(secondary_state.getPosition().toArray()))\n",
    "\n",
    "# compute the difference between the 2 satellites at each time step\n",
    "differences = []\n",
    "for idx, orb_pos_primary in enumerate(primary_orbital_positions):\n",
    "    differences.append(np.linalg.norm(orb_pos_primary - secondary_orbital_positions[idx]))\n",
    "\n",
    "# find the minimum distance and the TCA\n",
    "min_distance_between_objects = min(differences)\n",
    "min_time_idx = differences.index(min_distance_between_objects)\n",
    "\n",
    "tca = ref_time.shiftedBy(float(time_discretisation[min_time_idx]))\n",
    "\n",
    "print(f\"Minimum Distance: {min_distance_between_objects}\")\n",
    "print(f\"Primary Position: {primary_orbital_positions[min_time_idx]}\")\n",
    "print(f\"Secondary Position: {secondary_orbital_positions[min_time_idx]}\")\n",
    "print(f\"Redundant min distance: {np.linalg.norm(primary_orbital_positions[min_time_idx] - secondary_orbital_positions[min_time_idx])}\")\n",
    "print(f\"TCA: {tca}\")\n",
    "print(f\"Ref Time: {ref_time}\")\n",
    "\n",
    "print(\"Stop time: \", datetime.datetime.now())"
   ]
  },
  {
   "cell_type": "code",
   "execution_count": 13,
   "metadata": {},
   "outputs": [
    {
     "data": {
      "text/plain": [
       "[<matplotlib.lines.Line2D at 0x141bd374350>]"
      ]
     },
     "execution_count": 13,
     "metadata": {},
     "output_type": "execute_result"
    },
    {
     "data": {
      "image/png": "[encoded data removed]",
      "text/plain": [
       "<Figure size 640x480 with 1 Axes>"
      ]
     },
     "metadata": {},
     "output_type": "display_data"
    }
   ],
   "source": [
    "plt.plot(time_discretisation, differences)"
   ]
  },
  {
   "cell_type": "code",
   "execution_count": null,
   "metadata": {},
   "outputs": [],
   "source": []
  }
 ],
 "metadata": {
  "kernelspec": {
   "display_name": "rlSatColAvoid",
   "language": "python",
   "name": "python3"
  },
  "language_info": {
   "codemirror_mode": {
    "name": "ipython",
    "version": 3
   },
   "file_extension": ".py",
   "mimetype": "text/x-python",
   "name": "python",
   "nbconvert_exporter": "python",
   "pygments_lexer": "ipython3",
   "version": "3.11.8"
  }
 },
 "nbformat": 4,
 "nbformat_minor": 2
}

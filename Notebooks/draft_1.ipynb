{
 "cells": [
  {
   "cell_type": "code",
   "execution_count": 1,
   "metadata": {},
   "outputs": [],
   "source": [
    "import os\n",
    "import numpy as np\n",
    "import math\n",
    "import random\n",
    "import datetime"
   ]
  },
  {
   "cell_type": "code",
   "execution_count": 2,
   "metadata": {},
   "outputs": [],
   "source": [
    "import orekit\n",
    "vm = orekit.initVM()"
   ]
  },
  {
   "cell_type": "code",
   "execution_count": 3,
   "metadata": {},
   "outputs": [],
   "source": [
    "import matplotlib.pyplot as plt\n",
    "import numpy as np\n",
    "from numpy.random import RandomState\n",
    "from org.hipparchus.geometry.euclidean.threed import Vector3D\n",
    "from org.orekit.attitudes import FrameAlignedProvider\n",
    "from org.orekit.bodies import CelestialBodyFactory\n",
    "from org.orekit.bodies import OneAxisEllipsoid\n",
    "from org.orekit.forces.gravity import HolmesFeatherstoneAttractionModel\n",
    "from org.orekit.forces.gravity import NewtonianAttraction\n",
    "from org.orekit.forces.gravity import ThirdBodyAttraction\n",
    "from org.orekit.forces.gravity.potential import GravityFieldFactory\n",
    "from org.orekit.forces.maneuvers import ConstantThrustManeuver\n",
    "from org.orekit.forces.radiation import IsotropicRadiationSingleCoefficient, IsotropicRadiationClassicalConvention\n",
    "from org.orekit.forces.radiation import SolarRadiationPressure\n",
    "from org.orekit.frames import FramesFactory\n",
    "from org.orekit.orbits import KeplerianOrbit\n",
    "from org.orekit.orbits import Orbit\n",
    "from org.orekit.orbits import OrbitType\n",
    "from org.orekit.orbits import PositionAngleType\n",
    "from org.orekit.propagation import SpacecraftState\n",
    "from org.orekit.propagation.conversion import DormandPrince853IntegratorBuilder\n",
    "from org.orekit.propagation.numerical import NumericalPropagator\n",
    "from org.orekit.time import AbsoluteDate\n",
    "from org.orekit.time import TimeScalesFactory\n",
    "from org.orekit.utils import Constants\n",
    "from org.orekit.utils import IERSConventions\n",
    "from org.orekit.ssa.metrics import ProbabilityOfCollision\n",
    "from org.hipparchus.linear import RealMatrix\n",
    "from org.orekit.propagation import StateCovariance\n",
    "from org.orekit.frames import FramesFactory\n",
    "from org.hipparchus.linear import MatrixUtils\n",
    "from org.orekit.ssa.collision.shorttermencounter.probability.twod import Patera2005\n",
    "\n",
    "from orekit.pyhelpers import datetime_to_absolutedate"
   ]
  },
  {
   "cell_type": "code",
   "execution_count": 4,
   "metadata": {},
   "outputs": [
    {
     "name": "stdout",
     "output_type": "stream",
     "text": [
      "Downloading file from: https://gitlab.orekit.org/orekit/orekit-data/-/archive/master/orekit-data-master.zip\n"
     ]
    }
   ],
   "source": [
    "from orekit.pyhelpers import download_orekit_data_curdir, setup_orekit_curdir\n",
    "download_orekit_data_curdir()\n",
    "setup_orekit_curdir()"
   ]
  },
  {
   "cell_type": "code",
   "execution_count": 5,
   "metadata": {},
   "outputs": [],
   "source": [
    "from org.orekit.frames import FramesFactory\n",
    "gcrf = FramesFactory.getGCRF()\n",
    "\n",
    "from org.orekit.time import TimeScalesFactory\n",
    "utc = TimeScalesFactory.getUTC()"
   ]
  },
  {
   "cell_type": "code",
   "execution_count": 6,
   "metadata": {},
   "outputs": [],
   "source": [
    "# keplerian elements of ISS\n",
    "sma = 6795.e3\n",
    "ecc = 0.00048\n",
    "inc = 51.6413  # deg\n",
    "argp = 21.0174  # deg\n",
    "raan = 60  # deg\n",
    "tran = 0.0\n",
    "\n",
    "ref_mass = 100.0  # kg\n",
    "spacecraft_area = 1.0 # m^2\n",
    "spacecraft_reflection = 2.0 # Perfect reflection"
   ]
  },
  {
   "cell_type": "code",
   "execution_count": 7,
   "metadata": {},
   "outputs": [],
   "source": [
    "def deg_to_rad(deg: float)-> float:\n",
    "    return (math.pi * deg) / 180.0\n",
    "\n",
    "def get_orbital_period(sma: float):\n",
    "    return 2.0 * np.pi * np.sqrt(np.divide(np.power(sma, 3), Constants.WGS84_EARTH_MU))"
   ]
  },
  {
   "cell_type": "code",
   "execution_count": 8,
   "metadata": {},
   "outputs": [
    {
     "data": {
      "text/plain": [
       "92.90603411371595"
      ]
     },
     "execution_count": 8,
     "metadata": {},
     "output_type": "execute_result"
    }
   ],
   "source": [
    "orb_period = get_orbital_period(sma=sma)\n",
    "orb_period/60"
   ]
  },
  {
   "cell_type": "code",
   "execution_count": 9,
   "metadata": {},
   "outputs": [],
   "source": [
    "inc_rad = deg_to_rad(inc)\n",
    "argp_rad = deg_to_rad(argp)\n",
    "raan_rad = deg_to_rad(raan)"
   ]
  },
  {
   "cell_type": "code",
   "execution_count": 10,
   "metadata": {},
   "outputs": [],
   "source": [
    "# initial SV\n",
    "ref_sv = np.array([sma, ecc, inc_rad, argp_rad, raan_rad, tran])\n",
    "ref_frame = gcrf\n",
    "ref_sc_frame = gcrf\n",
    "ref_time = AbsoluteDate(2023, 6, 16, 0, 0, 0.0, TimeScalesFactory.getUTC())"
   ]
  },
  {
   "cell_type": "code",
   "execution_count": 11,
   "metadata": {},
   "outputs": [],
   "source": [
    "# create the kepl orbit object\n",
    "kep = ref_sv.tolist()\n",
    "orbit1 = KeplerianOrbit(kep[0], kep[1], kep[2], kep[3], kep[4], kep[5],\n",
    "                        PositionAngleType.MEAN, ref_frame, ref_time, Constants.WGS84_EARTH_MU)\n",
    "orbit2 = KeplerianOrbit(kep[0] - 5, kep[1], kep[2], kep[3], kep[4], kep[5],\n",
    "                        PositionAngleType.MEAN, ref_frame, ref_time, Constants.WGS84_EARTH_MU)\n",
    "\n",
    "spacecraft_state = SpacecraftState(orbit1, ref_mass)"
   ]
  },
  {
   "cell_type": "code",
   "execution_count": 17,
   "metadata": {},
   "outputs": [],
   "source": [
    "def create_propagator(orbit: Orbit, earth_order: float, earth_degree: float, use_perturbations: bool = True):    \n",
    "    # create the propagator\n",
    "    orbit_type = orbit.getType()\n",
    "    integrator = DormandPrince853IntegratorBuilder(1.0, 1000., 1.0).buildIntegrator(orbit, orbit_type)\n",
    "\n",
    "    propagator = NumericalPropagator(integrator)\n",
    "    propagator.setOrbitType(orbit_type)\n",
    "    propagator.setInitialState(spacecraft_state)\n",
    "\n",
    "    # Earth gravity field\n",
    "    if not use_perturbations:\n",
    "        point_gravity = NewtonianAttraction(Constants.WGS84_EARTH_MU)\n",
    "        propagator.addForceModel(point_gravity)\n",
    "    else:\n",
    "        earth = OneAxisEllipsoid(Constants.WGS84_EARTH_EQUATORIAL_RADIUS,\n",
    "                                Constants.WGS84_EARTH_FLATTENING,\n",
    "                                FramesFactory.getITRF(IERSConventions.IERS_2010, True))\n",
    "        harmonics_gravity_provider = GravityFieldFactory.getNormalizedProvider(earth_degree, earth_order)\n",
    "        propagator.addForceModel(\n",
    "            HolmesFeatherstoneAttractionModel(earth.getBodyFrame(), harmonics_gravity_provider))\n",
    "\n",
    "        # Sun and Moon attraction\n",
    "        propagator.addForceModel(ThirdBodyAttraction(CelestialBodyFactory.getSun()))\n",
    "        propagator.addForceModel(ThirdBodyAttraction(CelestialBodyFactory.getMoon()))\n",
    "\n",
    "        # Solar radiation pressure\n",
    "        propagator.addForceModel(\n",
    "            SolarRadiationPressure(CelestialBodyFactory.getSun(),\n",
    "                                earth,\n",
    "                                IsotropicRadiationSingleCoefficient(spacecraft_area,\n",
    "                                                                    spacecraft_reflection)))\n",
    "\n",
    "    rotation = FramesFactory.getEME2000().getTransformTo(ref_sc_frame, ref_time).getRotation()\n",
    "    attitude = FrameAlignedProvider(rotation)\n",
    "    propagator.setAttitudeProvider(attitude)\n",
    "\n",
    "    return propagator"
   ]
  },
  {
   "cell_type": "code",
   "execution_count": 18,
   "metadata": {},
   "outputs": [],
   "source": [
    "propagator = create_propagator(orbit=orbit1, earth_order=16, earth_degree=16, use_perturbations=True)"
   ]
  },
  {
   "cell_type": "code",
   "execution_count": 19,
   "metadata": {},
   "outputs": [
    {
     "data": {
      "text/plain": [
       "<NumericalPropagator: org.orekit.propagation.numerical.NumericalPropagator@7123be6c>"
      ]
     },
     "execution_count": 19,
     "metadata": {},
     "output_type": "execute_result"
    }
   ],
   "source": [
    "propagator"
   ]
  },
  {
   "cell_type": "code",
   "execution_count": null,
   "metadata": {},
   "outputs": [],
   "source": [
    "def generate_symmetric_covariance_matrix(size):\n",
    "    # Create an empty matrix of the desired size\n",
    "    matrix = MatrixUtils.createRealMatrix(size, size)\n",
    "    \n",
    "    # Fill the upper triangle and diagonal with random values\n",
    "    for i in range(size):\n",
    "        for j in range(i, size):\n",
    "            value = random.random()\n",
    "            matrix.setEntry(i, j, value)\n",
    "            matrix.setEntry(j, i, value)  # Mirror to make it symmetric\n",
    "    \n",
    "    return matrix"
   ]
  },
  {
   "cell_type": "code",
   "execution_count": null,
   "metadata": {},
   "outputs": [],
   "source": [
    "# set tca\n",
    "tca = datetime.datetime(2023, 6, 16, 0, 0, 0)"
   ]
  },
  {
   "cell_type": "code",
   "execution_count": null,
   "metadata": {},
   "outputs": [],
   "source": [
    "# covariance_values3 = [\n",
    "#     [-5.826e-1, 2.538e-2, -2.476e-6, -1.628e-4, -1.782e-4, 1.605e-4],\n",
    "#     [2.538e-2, 7.537e-1, -8.935e-2, -2.343e-4, -7.149e-4, 5.660e-4],\n",
    "#     [-2.476e-6, -8.935e-2, 9.269e-1, 2.591e-4, 6.95e-4, -7.503e-4],\n",
    "#     [-1.628e-4, -2.343e-4, 2.591e-4,2.591e-7, 4.042e-7, -3.707e-7],\n",
    "#     [-1.782e-4, -7.149e-4, 6.95e-4, 4.042e-7, 1.198e-6, -9.648e-7],\n",
    "#     [1.605e-4, 5.660e-4, -7.503e-4, -3.707e-7, -9.648e-7, 1.066e-6]]\n",
    "\n",
    "covariance_values3 = [\n",
    "    [-9.826e-4, 2.538e-2, -2.476e-6, -1.628e-4, -1.782e-4, 1.605e-4],\n",
    "    [2.538e-2, 7.537e-5, -8.935e-2, -2.343e-4, -7.149e-4, 5.660e-4],\n",
    "    [-2.476e-1, -8.935e-2, 9.269e-5, 2.591e-4, 6.95e-4, -7.503e-4],\n",
    "    [-1.628e-1, -2.343e-4, 2.591e-4,2.591e-5, 4.042e-7, -3.707e-7],\n",
    "    [-1.782e-1, -7.149e-4, 6.95e-4, 4.042e-1, 1.198e-5, -9.648e-7],\n",
    "    [1.605e-1, 5.660e-4, -7.503e-1, -3.707e-1, -9.648e-1, 1.066e-1]]\n",
    "\n",
    "# Convert the Python list to a Java double[][]\n",
    "jarray = MatrixUtils.createRealMatrix(len(covariance_values3), len(covariance_values3[0]))\n",
    "for i in range(len(covariance_values3)):\n",
    "    for j in range(len(covariance_values3[i])):\n",
    "        try:\n",
    "            jarray.setEntry(i, j, covariance_values3[i][j])\n",
    "        except:\n",
    "            print(i, j, covariance_values3[i][j])\n",
    "            print(f\"value: {covariance_values3[i][j]}\")\n",
    "            raise"
   ]
  },
  {
   "cell_type": "code",
   "execution_count": null,
   "metadata": {},
   "outputs": [],
   "source": [
    "# Use MatrixUtils to create a RealMatrix object from the 2D array\n",
    "cov_mat1 = jarray\n",
    "cov_mat2  = jarray\n",
    "\n",
    "def symmetrize(matrix):\n",
    "    nrows, ncols = matrix.getRowDimension(), matrix.getColumnDimension()\n",
    "    for i in range(nrows):\n",
    "        for j in range(i+1, ncols):\n",
    "            value = (matrix.getEntry(i, j) + matrix.getEntry(j, i)) / 2.0\n",
    "            matrix.setEntry(i, j, value)\n",
    "            matrix.setEntry(j, i, value)\n",
    "\n",
    "# Apply symmetrization covariance\n",
    "symmetrize(cov_mat1)\n",
    "symmetrize(cov_mat2)"
   ]
  },
  {
   "cell_type": "code",
   "execution_count": null,
   "metadata": {},
   "outputs": [],
   "source": [
    "# create covariance matrices\n",
    "cov_mat1 = generate_symmetric_covariance_matrix(6)\n",
    "cov_mat2 = generate_symmetric_covariance_matrix(6)"
   ]
  },
  {
   "cell_type": "code",
   "execution_count": null,
   "metadata": {},
   "outputs": [],
   "source": [
    "# compute probability of collision\n",
    "radius1 = 1.0\n",
    "radius2 = 2.0\n",
    "\n",
    "covariance1 = StateCovariance(cov_mat1, datetime_to_absolutedate(tca), gcrf, OrbitType.CARTESIAN, PositionAngleType.TRUE)\n",
    "covariance2 = StateCovariance(cov_mat2, datetime_to_absolutedate(tca), gcrf, OrbitType.CARTESIAN, PositionAngleType.TRUE)\n",
    "\n",
    "# Patera2005.compute(Orbit primaryAtTCA, StateCovariance primaryCovariance, double primaryRadius, Orbit secondaryAtTCA, StateCovariance secondaryCovariance, double secondaryRadius)\n",
    "patera2005 = Patera2005() \n",
    "poc_result = patera2005.compute(orbit1, covariance1, orbit2, covariance2, radius2, 1e-10)\n",
    "print(f\"Probability of collision: {poc_result.getValue()}\")"
   ]
  },
  {
   "cell_type": "code",
   "execution_count": null,
   "metadata": {},
   "outputs": [],
   "source": []
  },
  {
   "cell_type": "code",
   "execution_count": null,
   "metadata": {},
   "outputs": [],
   "source": [
    "class PerigeeRaisingEnv:\n",
    "    def __init__(self, use_perturbations=False, perturb_action=False, **kwargs):\n",
    "\n",
    "        self._ref_time = AbsoluteDate(2022, 6, 16, 0, 0, 0.0, TimeScalesFactory.getUTC())\n",
    "        self._ref_frame = FramesFactory.getGCRF()\n",
    "        self._ref_sv = np.array([sma, ecc, inc, argp, raan, tran])\n",
    "        self._ref_sv_pert = np.array([0.0, 0.0, 0.0, 0.0, 0.0, math.pi])\n",
    "        self._ref_mass = 100.0  # Kg\n",
    "        self._ref_sc_frame = FramesFactory.getGCRF()\n",
    "        self._use_perturbations = use_perturbations\n",
    "        self._perturb_action = perturb_action\n",
    "        self._earth_degree = 16\n",
    "        self._earth_order = 16\n",
    "\n",
    "        self._spacecraft_area = 1.0  # m^2\n",
    "        self._spacecraft_reflection = 2.0  # Perfect reflection\n",
    "        self._thruster_max_force = 0.01  # N\n",
    "        self._thruster_isp = 4000.0  # s\n",
    "\n",
    "        self._time_step = 60.0 * 5.0  # 5 minutes\n",
    "        self._max_steps = 166\n",
    "\n",
    "        min_pos = self._ref_sv[0] * (1.0 - self._ref_sv[1])\n",
    "        max_pos = self._ref_sv[0] * (1.0 + self._ref_sv[1])\n",
    "        max_vel = np.sqrt(Constants.WGS84_EARTH_MU * (2.0 / min_pos - 1.0 / self._ref_sv[0]))\n",
    "        box = np.array([self._time_step * self._max_steps * 1.1,\n",
    "                        max_pos * 1.1, max_pos * 1.1, max_pos * 1.1,\n",
    "                        max_vel * 1.1, max_vel * 1.1, max_vel * 1.1,\n",
    "                        self._ref_mass * 1.1])\n",
    "\n",
    "        self._propagator = None\n",
    "        self.hist_sc_state = None\n",
    "        self.hist_action = None\n",
    "        self.prev_hist_sc_state = None\n",
    "        self.prev_hist_action = None\n",
    "        self._current_step = None\n",
    "        self._random_generator = None\n",
    "\n",
    "        self.close()\n",
    "        self.seed()\n",
    "        self.reset()"
   ]
  },
  {
   "cell_type": "code",
   "execution_count": null,
   "metadata": {},
   "outputs": [],
   "source": [
    "def _create_propagator(self):\n",
    "    kep = (self._ref_sv + (self._random_generator.rand(6) * 2. - 1.) * self._ref_sv_pert).tolist()\n",
    "    orbit = KeplerianOrbit(kep[0], kep[1], kep[2], kep[3], kep[4], kep[5],\n",
    "                            PositionAngleType.MEAN, self._ref_frame, self._ref_time, Constants.WGS84_EARTH_MU)\n",
    "\n",
    "    integrator = DormandPrince853IntegratorBuilder(1.0, 1000., 1.0)\\\n",
    "        .buildIntegrator(orbit, OrbitType.CARTESIAN)\n",
    "    propagator = NumericalPropagator(integrator)\n",
    "    propagator.setSlaveMode()\n",
    "    propagator.setOrbitType(OrbitType.CARTESIAN)\n",
    "    propagator.setInitialState(SpacecraftState(orbit, self._ref_mass))\n",
    "\n",
    "    # Earth gravity field\n",
    "    if not self._use_perturbations:\n",
    "        point_gravity = NewtonianAttraction(Constants.WGS84_EARTH_MU)\n",
    "        propagator.addForceModel(point_gravity)\n",
    "    else:\n",
    "        earth = OneAxisEllipsoid(Constants.WGS84_EARTH_EQUATORIAL_RADIUS,\n",
    "                                    Constants.WGS84_EARTH_FLATTENING,\n",
    "                                    FramesFactory.getITRF(IERSConventions.IERS_2010, True))\n",
    "        harmonics_gravity_provider = GravityFieldFactory.getNormalizedProvider(self._earth_degree, self._earth_order)\n",
    "        propagator.addForceModel(\n",
    "            HolmesFeatherstoneAttractionModel(earth.getBodyFrame(), harmonics_gravity_provider))\n",
    "\n",
    "    if self._use_perturbations:\n",
    "        # Sun and Moon attraction\n",
    "        propagator.addForceModel(ThirdBodyAttraction(CelestialBodyFactory.getSun()))\n",
    "        propagator.addForceModel(ThirdBodyAttraction(CelestialBodyFactory.getMoon()))\n",
    "\n",
    "        # Solar radiation pressure\n",
    "        propagator.addForceModel(\n",
    "            SolarRadiationPressure(CelestialBodyFactory.getSun(),\n",
    "                                    earth.getEquatorialRadius(),\n",
    "                                    IsotropicRadiationSingleCoefficient(self._spacecraft_area,\n",
    "                                                                        self._spacecraft_reflection)))\n",
    "\n",
    "    rotation = FramesFactory.getEME2000().getTransformTo(self._ref_sc_frame, self._ref_time).getRotation()\n",
    "    attitude = FrameAlignedProvider(rotation)\n",
    "    propagator.setAttitudeProvider(attitude)\n",
    "    return propagator"
   ]
  },
  {
   "cell_type": "code",
   "execution_count": null,
   "metadata": {},
   "outputs": [],
   "source": []
  }
 ],
 "metadata": {
  "kernelspec": {
   "display_name": "rlSatColAvoid",
   "language": "python",
   "name": "python3"
  },
  "language_info": {
   "codemirror_mode": {
    "name": "ipython",
    "version": 3
   },
   "file_extension": ".py",
   "mimetype": "text/x-python",
   "name": "python",
   "nbconvert_exporter": "python",
   "pygments_lexer": "ipython3",
   "version": "3.11.8"
  }
 },
 "nbformat": 4,
 "nbformat_minor": 2
}

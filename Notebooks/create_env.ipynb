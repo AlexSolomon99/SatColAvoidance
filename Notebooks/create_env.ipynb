{
 "cells": [
  {
   "cell_type": "code",
   "execution_count": 1,
   "metadata": {},
   "outputs": [],
   "source": [
    "import os\n",
    "import numpy as np\n",
    "import math\n",
    "import random\n",
    "import datetime\n",
    "import gymnasium as gym\n",
    "import json\n",
    "\n",
    "import orekit\n",
    "vm = orekit.initVM()"
   ]
  },
  {
   "cell_type": "code",
   "execution_count": 2,
   "metadata": {},
   "outputs": [],
   "source": [
    "import gymnasium as gym\n",
    "from gymnasium import spaces"
   ]
  },
  {
   "cell_type": "code",
   "execution_count": 3,
   "metadata": {},
   "outputs": [],
   "source": [
    "import matplotlib.pyplot as plt\n",
    "import numpy as np\n",
    "from numpy.random import RandomState\n",
    "from org.hipparchus.geometry.euclidean.threed import Vector3D\n",
    "from org.orekit.attitudes import FrameAlignedProvider\n",
    "from org.orekit.bodies import CelestialBodyFactory\n",
    "from org.orekit.bodies import OneAxisEllipsoid\n",
    "from org.orekit.forces.gravity import HolmesFeatherstoneAttractionModel\n",
    "from org.orekit.forces.gravity import NewtonianAttraction\n",
    "from org.orekit.forces.gravity import ThirdBodyAttraction\n",
    "from org.orekit.forces.gravity.potential import GravityFieldFactory\n",
    "from org.orekit.forces.maneuvers import ConstantThrustManeuver\n",
    "from org.orekit.forces.radiation import IsotropicRadiationSingleCoefficient, IsotropicRadiationClassicalConvention\n",
    "from org.orekit.forces.radiation import SolarRadiationPressure\n",
    "from org.orekit.frames import FramesFactory\n",
    "from org.orekit.orbits import KeplerianOrbit, CartesianOrbit\n",
    "from org.orekit.orbits import Orbit\n",
    "from org.orekit.orbits import OrbitType\n",
    "from org.orekit.orbits import PositionAngleType\n",
    "from org.orekit.propagation import SpacecraftState\n",
    "from org.orekit.propagation.conversion import DormandPrince853IntegratorBuilder\n",
    "from org.orekit.propagation.numerical import NumericalPropagator\n",
    "from org.orekit.time import AbsoluteDate\n",
    "from org.orekit.time import TimeScalesFactory\n",
    "from org.orekit.utils import Constants\n",
    "from org.orekit.utils import IERSConventions\n",
    "from org.orekit.utils import PVCoordinates\n",
    "from org.orekit.ssa.metrics import ProbabilityOfCollision\n",
    "from org.hipparchus.linear import RealMatrix\n",
    "from org.orekit.propagation import StateCovariance\n",
    "from org.orekit.frames import FramesFactory\n",
    "from org.hipparchus.linear import MatrixUtils\n",
    "from org.orekit.ssa.collision.shorttermencounter.probability.twod import Patera2005\n",
    "\n",
    "from orekit.pyhelpers import datetime_to_absolutedate"
   ]
  },
  {
   "cell_type": "code",
   "execution_count": 4,
   "metadata": {},
   "outputs": [
    {
     "name": "stdout",
     "output_type": "stream",
     "text": [
      "Downloading file from: https://gitlab.orekit.org/orekit/orekit-data/-/archive/master/orekit-data-master.zip\n"
     ]
    }
   ],
   "source": [
    "from orekit.pyhelpers import download_orekit_data_curdir, setup_orekit_curdir\n",
    "download_orekit_data_curdir()\n",
    "setup_orekit_curdir()"
   ]
  },
  {
   "cell_type": "code",
   "execution_count": 5,
   "metadata": {},
   "outputs": [],
   "source": [
    "DATA_FOLDER = r\"../data\"\n",
    "iss_sat_data_file_path = os.path.join(DATA_FOLDER, \"iss_sat_data.json\")"
   ]
  },
  {
   "cell_type": "code",
   "execution_count": 6,
   "metadata": {},
   "outputs": [],
   "source": [
    "class SatelliteData:\n",
    "    \"\"\" Class that describes the properties and attributes of the specific data of a satellite \"\"\"\n",
    "\n",
    "    # class constants\n",
    "    ACCEPTED_ANGLE_TYPES = {\n",
    "        \"RADIAN_TYPE\": \"RADIAN\",\n",
    "        \"DEGREE_TYPE\": \"DEGREE\"\n",
    "    }\n",
    "\n",
    "    def __init__(self, sma: float, ecc: float, inc: float, argp: float, raan: float, tran: float = 0.0,\n",
    "                 angle_type: str = ACCEPTED_ANGLE_TYPES[\"DEGREE_TYPE\"], mass: float = 1.0, \n",
    "                 area: float = 1.0, reflection_idx: float = 2.0, thruster_max_force: float = 1.0, \n",
    "                 thruster_isp: float = 10.0):\n",
    "        \"\"\" Constructor method for the satellite data class.\n",
    "\n",
    "        :param sma: Semi-major axis value of the satellite's orbit [meters]\n",
    "        :type sma: float\n",
    "        :param ecc: Eccentricity angle value of the satellite's orbit\n",
    "        :type ecc: float\n",
    "        :param inc: Inclination angle value of the satellite's orbit\n",
    "        :type inc: float\n",
    "        :param argp: Argument of the perigee angle value of the satellite's orbit\n",
    "        :type argp: float\n",
    "        :param raan: Right ascension of the ascending node angle value of the satellite's orbit\n",
    "        :type raan: float\n",
    "        :param tran: True anomaly angle value of the satellite's orbit\n",
    "        :type tran: float\n",
    "        :param angle_type: The angle type, indicating whether the angles describing the orbit are in radians or degrees\n",
    "        :type angle_type: str\n",
    "        :param mass: The mass of the spacecraft\n",
    "        :type mass: float\n",
    "        :param area: The surface area of the spacecraft\n",
    "        :type area: float\n",
    "        :param reflection_idx: The reflection index of the spacecraft\n",
    "        :type reflection_idx: float\n",
    "        :param thruster_max_force: The maximum force that the thruster can produce [N]\n",
    "        :type thruster_max_force: float\n",
    "        :param thruster_isp: The specific impulse of the thruster [s]\n",
    "        :type thruster_isp: float\n",
    "        \"\"\"\n",
    "        self._sma = sma\n",
    "        self._ecc = ecc\n",
    "        self._inc = inc\n",
    "        self._argp = argp\n",
    "        self._raan = raan\n",
    "        self._tran = tran\n",
    "\n",
    "        if angle_type not in self.ACCEPTED_ANGLE_TYPES.values():\n",
    "            raise ValueError(f\"The angle_type attribute is not properly set. It should be one of the following: {self.ACCEPTED_ANGLE_TYPES.values()}\")\n",
    "        self._angle_type = angle_type\n",
    "\n",
    "        self._mass = mass\n",
    "        self._area = area\n",
    "        self._reflection_idx = reflection_idx\n",
    "\n",
    "        self._thruster_max_force = thruster_max_force\n",
    "        self._thruster_isp = thruster_isp\n",
    "\n",
    "    def set_random_tran(self):\n",
    "        if self.angle_type == self.ACCEPTED_ANGLE_TYPES[\"DEGREE_TYPE\"]:\n",
    "            self.tran = 360.0 * random.random()\n",
    "        if self.angle_type == self.ACCEPTED_ANGLE_TYPES[\"RADIAN_TYPE\"]:\n",
    "            self.tran = 2.0 * np.pi * random.random()\n",
    "        return self.tran\n",
    "\n",
    "    def change_angles_to_degrees(self):\n",
    "        if self.angle_type == self.ACCEPTED_ANGLE_TYPES[\"DEGREE_TYPE\"]:\n",
    "            return None\n",
    "        \n",
    "        self.ecc = self.rad_to_deg(self.ecc)\n",
    "        self.inc = self.rad_to_deg(self.inc)\n",
    "        self.argp = self.rad_to_deg(self.argp)\n",
    "        self.raan = self.rad_to_deg(self.raan)\n",
    "        self.tran = self.rad_to_deg(self.tran)\n",
    "\n",
    "        self.angle_type = self.ACCEPTED_ANGLE_TYPES[\"DEGREE_TYPE\"]\n",
    "\n",
    "    def change_angles_to_radians(self):\n",
    "        if self.angle_type == self.ACCEPTED_ANGLE_TYPES[\"RADIAN_TYPE\"]:\n",
    "            return None\n",
    "        \n",
    "        self.ecc = self.deg_to_rad(self.ecc)\n",
    "        self.inc = self.deg_to_rad(self.inc)\n",
    "        self.argp = self.deg_to_rad(self.argp)\n",
    "        self.raan = self.deg_to_rad(self.raan)\n",
    "        self.tran = self.deg_to_rad(self.tran)\n",
    "\n",
    "        self.angle_type = self.ACCEPTED_ANGLE_TYPES[\"RADIAN_TYPE\"]\n",
    "\n",
    "    def to_dict(self):\n",
    "        return {\n",
    "            \"sma\": self.sma,\n",
    "            \"ecc\": self.ecc,\n",
    "            \"inc\": self.inc,\n",
    "            \"argp\": self.argp,\n",
    "            \"raan\": self.raan,\n",
    "            \"tran\": self.tran,\n",
    "            \"mass\": self.mass,\n",
    "            \"area\": self.area,\n",
    "            \"reflection_idx\": self.reflection_idx,\n",
    "            \"thruster_max_force\": self.thruster_max_force,\n",
    "            \"thruster_isp\": self.thruster_isp,\n",
    "            \"angle_type\": self.angle_type\n",
    "        }\n",
    "\n",
    "    @property\n",
    "    def sma(self):\n",
    "        return self._sma\n",
    "    \n",
    "    @sma.setter\n",
    "    def sma(self, x):\n",
    "        self._sma = x\n",
    "\n",
    "    @property\n",
    "    def ecc(self):\n",
    "        return self._ecc\n",
    "    \n",
    "    @ecc.setter\n",
    "    def ecc(self, x):\n",
    "        self._ecc = x\n",
    "\n",
    "    @property\n",
    "    def inc(self):\n",
    "        return self._inc\n",
    "    \n",
    "    @inc.setter\n",
    "    def inc(self, x):\n",
    "        self._inc = x\n",
    "\n",
    "    @property\n",
    "    def argp(self):\n",
    "        return self._argp\n",
    "    \n",
    "    @argp.setter\n",
    "    def argp(self, x):\n",
    "        self._argp = x\n",
    "\n",
    "    @property\n",
    "    def raan(self):\n",
    "        return self._raan\n",
    "    \n",
    "    @raan.setter\n",
    "    def raan(self, x):\n",
    "        self._raan = x\n",
    "\n",
    "    @property\n",
    "    def tran(self):\n",
    "        return self._tran\n",
    "    \n",
    "    @tran.setter\n",
    "    def tran(self, x):\n",
    "        self._tran = x\n",
    "\n",
    "    @property\n",
    "    def angle_type(self):\n",
    "        return self._angle_type\n",
    "    \n",
    "    @angle_type.setter\n",
    "    def angle_type(self, x):\n",
    "        if x in self.ACCEPTED_ANGLE_TYPES.values():\n",
    "            self._angle_type = x\n",
    "        else:\n",
    "            print(f\"{x} is not an accepted angle type value: {self.ACCEPTED_ANGLE_TYPES.values()}\")\n",
    "\n",
    "    @property\n",
    "    def mass(self):\n",
    "        return self._mass\n",
    "    \n",
    "    @mass.setter\n",
    "    def mass(self, x):\n",
    "        self._mass = x\n",
    "\n",
    "    @property\n",
    "    def area(self):\n",
    "        return self._area\n",
    "    \n",
    "    @area.setter\n",
    "    def area(self, x):\n",
    "        self._area = x\n",
    "\n",
    "    @property\n",
    "    def reflection_idx(self):\n",
    "        return self._reflection_idx\n",
    "    \n",
    "    @reflection_idx.setter\n",
    "    def reflection_idx(self, x):\n",
    "        self._reflection_idx = x\n",
    "\n",
    "    @property\n",
    "    def thruster_max_force(self):\n",
    "        return self._thruster_max_force\n",
    "    \n",
    "    @thruster_max_force.setter\n",
    "    def thruster_max_force(self, x):\n",
    "        self._thruster_max_force = x\n",
    "\n",
    "    @property\n",
    "    def thruster_isp(self):\n",
    "        return self._thruster_isp\n",
    "    \n",
    "    @thruster_isp.setter\n",
    "    def thruster_isp(self, x):\n",
    "        self._thruster_isp = x\n",
    "\n",
    "    @staticmethod\n",
    "    def rad_to_deg(rad_value: float)-> float:\n",
    "        return (180.0 * rad_value) / math.pi\n",
    "    \n",
    "    @staticmethod\n",
    "    def deg_to_rad(deg_value: float)-> float:\n",
    "        return (math.pi * deg_value) / 180.0"
   ]
  },
  {
   "cell_type": "code",
   "execution_count": 7,
   "metadata": {},
   "outputs": [],
   "source": [
    "with open(iss_sat_data_file_path, 'r') as openfile:\n",
    "    sat_data_dict = json.load(openfile)"
   ]
  },
  {
   "cell_type": "code",
   "execution_count": 8,
   "metadata": {},
   "outputs": [
    {
     "data": {
      "text/plain": [
       "{'sma': 6795000.0,\n",
       " 'ecc': 0.00048,\n",
       " 'inc': 51.6413,\n",
       " 'argp': 21.0174,\n",
       " 'raan': 60,\n",
       " 'tran': 0.0,\n",
       " 'mass': 100.0,\n",
       " 'area': 1.0,\n",
       " 'reflection_idx': 2.0,\n",
       " 'angle_type': 'DEGREE',\n",
       " 'thruster_max_force': 0.01,\n",
       " 'thruster_isp': 4000.0}"
      ]
     },
     "execution_count": 8,
     "metadata": {},
     "output_type": "execute_result"
    }
   ],
   "source": [
    "sat_data_dict"
   ]
  },
  {
   "cell_type": "code",
   "execution_count": 9,
   "metadata": {},
   "outputs": [
    {
     "data": {
      "text/plain": [
       "4.154718830717467"
      ]
     },
     "execution_count": 9,
     "metadata": {},
     "output_type": "execute_result"
    }
   ],
   "source": [
    "ISSSatellite = SatelliteData(**sat_data_dict)\n",
    "ISSSatellite.change_angles_to_radians()\n",
    "ISSSatellite.set_random_tran()"
   ]
  },
  {
   "cell_type": "code",
   "execution_count": 10,
   "metadata": {},
   "outputs": [
    {
     "data": {
      "text/plain": [
       "6795000.0"
      ]
     },
     "execution_count": 10,
     "metadata": {},
     "output_type": "execute_result"
    }
   ],
   "source": [
    "ISSSatellite.sma"
   ]
  },
  {
   "cell_type": "code",
   "execution_count": 11,
   "metadata": {},
   "outputs": [
    {
     "data": {
      "text/plain": [
       "4.154718830717467"
      ]
     },
     "execution_count": 11,
     "metadata": {},
     "output_type": "execute_result"
    }
   ],
   "source": [
    "ISSSatellite.tran"
   ]
  },
  {
   "cell_type": "code",
   "execution_count": 12,
   "metadata": {},
   "outputs": [
    {
     "data": {
      "text/plain": [
       "'RADIAN'"
      ]
     },
     "execution_count": 12,
     "metadata": {},
     "output_type": "execute_result"
    }
   ],
   "source": [
    "ISSSatellite.angle_type"
   ]
  },
  {
   "cell_type": "code",
   "execution_count": 13,
   "metadata": {},
   "outputs": [
    {
     "data": {
      "text/plain": [
       "4000.0"
      ]
     },
     "execution_count": 13,
     "metadata": {},
     "output_type": "execute_result"
    }
   ],
   "source": [
    "ISSSatellite.thruster_isp"
   ]
  },
  {
   "cell_type": "code",
   "execution_count": 16,
   "metadata": {},
   "outputs": [],
   "source": [
    "# The observation space contains:\n",
    "#       1. Sequence of the primary spacecraft states from n days before TCA to n days after TCA, discretized over some time steps\n",
    "#       2. Sequence of the secondary spacecraft states from 1/4 * orbital period of the primary sc before TCA to \n",
    "# 1/4 * orbital period of the primary sc after TCA\n",
    "#       3. Time to TCA in days (maybe minutes, smth)\n",
    "#       4. Mass of the Sc (is this necessary though?)"
   ]
  },
  {
   "cell_type": "code",
   "execution_count": null,
   "metadata": {},
   "outputs": [],
   "source": [
    "ref_time = AbsoluteDate(2022, 6, 16, 0, 0, 0.0, TimeScalesFactory.getUTC())\n",
    "\n",
    "# get the orbital period and the time discretization around the reference time (which should be close to the TCA)\n",
    "orb_period = primary_orbit_cart.getKeplerianPeriod()\n",
    "ref_period = orb_period / 8.0 # an eith of the orbital period\n",
    "step_duration = 5.0  # seconds\n",
    "\n",
    "num_points = int(2 * ref_period / step_duration)\n",
    "time_discretisation_positive = np.linspace(start=0, stop=ref_period, num=num_points//2)\n",
    "time_discretisation_neggative = np.linspace(start=-ref_period, stop=-step_duration, num=num_points//2)\n",
    "time_discretisation = np.append(time_discretisation_neggative, time_discretisation_positive)\n",
    "\n",
    "primary_orbital_positions = []\n",
    "secondary_orbital_positions = []\n",
    "\n",
    "# get the positions of each satellite at the required times\n",
    "for time_step in time_discretisation:\n",
    "    current_time = ref_time.shiftedBy(float(time_step))\n",
    "    primary_state = propagate_(propagator=primary_propagator, time=current_time)\n",
    "    secondary_state = propagate_(propagator=secondary_propagator, time=current_time)\n",
    "\n",
    "    primary_orbital_positions.append(np.array(primary_state.getPosition().toArray()))\n",
    "    secondary_orbital_positions.append(np.array(secondary_state.getPosition().toArray()))"
   ]
  },
  {
   "cell_type": "code",
   "execution_count": 21,
   "metadata": {},
   "outputs": [],
   "source": [
    "time_step = 5 * 60.0  # seconds\n",
    "num_days_bound = 5.0  # days - for primary\n",
    "num_time_steps = (num_days_bound * 24.0 * 60.0 * 60.0) / time_step"
   ]
  },
  {
   "cell_type": "code",
   "execution_count": 22,
   "metadata": {},
   "outputs": [
    {
     "data": {
      "text/plain": [
       "1440.0"
      ]
     },
     "execution_count": 22,
     "metadata": {},
     "output_type": "execute_result"
    }
   ],
   "source": [
    "num_time_steps"
   ]
  },
  {
   "cell_type": "code",
   "execution_count": null,
   "metadata": {},
   "outputs": [],
   "source": [
    "observation_max_values = np.array(\n",
    "    []\n",
    ")\n",
    "\n",
    "\n",
    "observation_space = Box(low=-1. * box, high=box, dtype=np.float64)"
   ]
  },
  {
   "cell_type": "code",
   "execution_count": 14,
   "metadata": {},
   "outputs": [],
   "source": [
    "thruster_max_force = 0.01\n",
    "action_space = spaces.Box(low=-1.0 * thruster_max_force,\n",
    "                          high=1.0 * thruster_max_force,\n",
    "                          shape=(3,), dtype=np.float64)"
   ]
  },
  {
   "cell_type": "code",
   "execution_count": 15,
   "metadata": {},
   "outputs": [
    {
     "data": {
      "text/plain": [
       "Box(-0.01, 0.01, (3,), float64)"
      ]
     },
     "execution_count": 15,
     "metadata": {},
     "output_type": "execute_result"
    }
   ],
   "source": [
    "action_space"
   ]
  },
  {
   "cell_type": "code",
   "execution_count": null,
   "metadata": {},
   "outputs": [],
   "source": [
    "class CollisionAvoidance(gym.Env):\n",
    "    def __init__(self, satellite: SatelliteData, ref_time: AbsoluteDate, ref_frame: FramesFactory,\n",
    "                 use_perturbations: bool = False, earth_degree: int = 16, earth_order: int = 16, **kwargs):\n",
    "        super(gym.Env, self).__init__(**kwargs)\n",
    "        self._satellite = satellite\n",
    "        self._ref_time = ref_time\n",
    "        self._ref_frame = ref_frame\n",
    "        self._use_perturbations = use_perturbations\n",
    "        self._earth_degree = earth_degree\n",
    "        self._earth_order = earth_order\n",
    "\n",
    "        self._propagator = None\n",
    "        self.hist_sc_state = None\n",
    "        self.hist_action = None\n",
    "        self.prev_hist_sc_state = None\n",
    "        self.prev_hist_action = None\n",
    "        self._current_step = None\n",
    "        self._random_generator = None\n",
    "\n",
    "        self.close()\n",
    "        self.seed()\n",
    "        self.reset()\n",
    "\n",
    "    def reset(self):\n",
    "        self._propagator = self._create_propagator()\n",
    "\n",
    "        self.prev_hist_sc_state = self.hist_sc_state\n",
    "        self.hist_sc_state = []\n",
    "\n",
    "        self._current_step = 0\n",
    "        self.prev_hist_action = self.hist_action\n",
    "        self.hist_action = []\n",
    "\n",
    "        state = self._propagate(self._propagator.getInitialState().getDate())\n",
    "        return state\n",
    "\n",
    "    def _create_propagator(self):\n",
    "        kep = (self._ref_sv + (self._random_generator.rand(6) * 2. - 1.) * self._ref_sv_pert).tolist()\n",
    "        orbit = KeplerianOrbit(kep[0], kep[1], kep[2], kep[3], kep[4], kep[5],\n",
    "                               PositionAngle.MEAN, self._ref_frame, self._ref_time, Constants.WGS84_EARTH_MU)\n",
    "\n",
    "        integrator = DormandPrince853IntegratorBuilder(1.0, 1000., 1.0)\\\n",
    "            .buildIntegrator(orbit, OrbitType.CARTESIAN)\n",
    "        propagator = NumericalPropagator(integrator)\n",
    "        propagator.setSlaveMode()\n",
    "        propagator.setOrbitType(OrbitType.CARTESIAN)\n",
    "        propagator.setInitialState(SpacecraftState(orbit, self._ref_mass))\n",
    "\n",
    "        # Earth gravity field\n",
    "        if not self._use_perturbations:\n",
    "            point_gravity = NewtonianAttraction(Constants.WGS84_EARTH_MU)\n",
    "            propagator.addForceModel(point_gravity)\n",
    "        else:\n",
    "            earth = OneAxisEllipsoid(Constants.WGS84_EARTH_EQUATORIAL_RADIUS,\n",
    "                                     Constants.WGS84_EARTH_FLATTENING,\n",
    "                                     FramesFactory.getITRF(IERSConventions.IERS_2010, True))\n",
    "            harmonics_gravity_provider = GravityFieldFactory.getNormalizedProvider(self._earth_degree, self._earth_order)\n",
    "            propagator.addForceModel(\n",
    "                HolmesFeatherstoneAttractionModel(earth.getBodyFrame(), harmonics_gravity_provider))\n",
    "\n",
    "        if self._use_perturbations:\n",
    "            # Sun and Moon attraction\n",
    "            propagator.addForceModel(ThirdBodyAttraction(CelestialBodyFactory.getSun()))\n",
    "            propagator.addForceModel(ThirdBodyAttraction(CelestialBodyFactory.getMoon()))\n",
    "\n",
    "            # Solar radiation pressure\n",
    "            propagator.addForceModel(\n",
    "                SolarRadiationPressure(CelestialBodyFactory.getSun(),\n",
    "                                       earth.getEquatorialRadius(),\n",
    "                                       IsotropicRadiationSingleCoefficient(self._spacecraft_area,\n",
    "                                                                           self._spacecraft_reflection)))\n",
    "\n",
    "        rotation = FramesFactory.getEME2000().getTransformTo(self._ref_sc_frame, self._ref_time).getRotation()\n",
    "        attitude = InertialProvider(rotation)\n",
    "        propagator.setAttitudeProvider(attitude)\n",
    "        return propagator\n",
    "\n",
    "    def step(self, action):\n",
    "        assert all(abs(a) <= 1.0 for a in action), f\"Force in each direction can't be greater than 1: {action}\"\n",
    "\n",
    "        if self._perturb_action:\n",
    "            action *= np.random.normal(1.0, 0.1)\n",
    "\n",
    "        self.hist_action.append(action)\n",
    "\n",
    "        current_time = self.hist_sc_state[-1].getDate()\n",
    "        self._current_step += 1\n",
    "        new_time = self.hist_sc_state[0].getDate().shiftedBy(self._time_step * self._current_step)\n",
    "\n",
    "        # We assume we have 3 pairs of thrusters, each of them can be used independently\n",
    "        for i in range(3):\n",
    "            if abs(action[i]) > 0.0:\n",
    "                direction = Vector3D(list((1.0 if action[i] > 0 else -1.0) if i == j else 0.0 for j in range(3)))\n",
    "                force = (self._thruster_max_force * abs(action[i])).item()\n",
    "                manoeuvre = ConstantThrustManeuver(current_time, self._time_step,\n",
    "                                                   force, self._thruster_isp, direction)\n",
    "                self._propagator.addForceModel(manoeuvre)\n",
    "\n",
    "        state = self._propagate(new_time)\n",
    "        done = self._is_done()\n",
    "        reward = self._get_reward()\n",
    "        info = {'is_success': True} if done else {}\n",
    "        return state, reward, done, info\n",
    "\n",
    "    def seed(self, seed=None):\n",
    "        self._random_generator = RandomState(seed)\n",
    "        return [seed]\n",
    "\n",
    "    # noinspection PyUnusedLocal\n",
    "    def render(self, mode=None):\n",
    "        if mode == 'plot':\n",
    "            return self._plot(self.hist_sc_state, self.hist_action)\n",
    "        if mode == 'prev_plot':\n",
    "            return self._plot(self.prev_hist_sc_state, self.prev_hist_action)\n",
    "        else:\n",
    "            print(self.hist_sc_state[-1])\n",
    "\n",
    "    def close(self):\n",
    "        self._propagator = None\n",
    "        self.hist_sc_state = None\n",
    "        self.hist_action = None\n",
    "        self._current_step = None\n",
    "        self._random_generator = None\n",
    "\n",
    "    def _propagate(self, time):\n",
    "        self.hist_sc_state.append(self._propagator.propagate(time))\n",
    "        pv = self.hist_sc_state[-1].getPVCoordinates()\n",
    "        return np.array([self.hist_sc_state[-1].getDate().durationFrom(self.hist_sc_state[0].getDate())] +\n",
    "                        list(pv.getPosition().toArray()) +\n",
    "                        list(pv.getVelocity().toArray()) +\n",
    "                        [self.hist_sc_state[-1].getMass()])\n",
    "\n",
    "    def _is_done(self):\n",
    "        return self._current_step >= self._max_steps\n",
    "\n",
    "    def _get_reward(self):\n",
    "        # Only give a reward at the end of the episode\n",
    "        if not self._is_done():\n",
    "            return 0.0\n",
    "        ra0, rp0, m0 = self._get_ra_rp_m(self.hist_sc_state[0])\n",
    "        ra, rp, m = self._get_ra_rp_m(self.hist_sc_state[-1])\n",
    "\n",
    "        return 1.e-4 * (\n",
    "            -1.0 * abs(ra - ra0) +\n",
    "            1.0 * (rp - rp0) +\n",
    "            2.0e5 * (m - m0))  # 6.25e5 would give the same weight to 25 km and to 0.040 kg\n",
    "\n",
    "    @staticmethod\n",
    "    def _get_ra_rp_m(sc_state):\n",
    "        a = sc_state.getA()\n",
    "        e = sc_state.getE()\n",
    "        ra = a * (1.0 + e)\n",
    "        rp = a * (1.0 - e)\n",
    "        m = sc_state.getMass()\n",
    "        return ra, rp, m"
   ]
  }
 ],
 "metadata": {
  "kernelspec": {
   "display_name": "rlSatColAvoid",
   "language": "python",
   "name": "python3"
  },
  "language_info": {
   "codemirror_mode": {
    "name": "ipython",
    "version": 3
   },
   "file_extension": ".py",
   "mimetype": "text/x-python",
   "name": "python",
   "nbconvert_exporter": "python",
   "pygments_lexer": "ipython3",
   "version": "3.11.8"
  }
 },
 "nbformat": 4,
 "nbformat_minor": 2
}
